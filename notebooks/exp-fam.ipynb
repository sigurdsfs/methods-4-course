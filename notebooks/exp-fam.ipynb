{
 "cells": [
  {
   "cell_type": "markdown",
   "metadata": {},
   "source": [
    "# Exponential-family belief updating"
   ]
  },
  {
   "cell_type": "markdown",
   "metadata": {},
   "source": [
    "## Reduction of Bayes' theorem to mean updating\n",
    "\n",
    "### Mean updating\n",
    "\n",
    "The mean $\\bar{x}_n$ of a set $\\{x_1, x_2, \\ldots, x_n\\}$ is\n",
    "\n",
    "$$\n",
    "\\bar{x}_n := \\frac{1}{n} \\sum_{i=1}^{n} x_i\n",
    "$$\n",
    "\n",
    "For example, $x_i$ could be observations made sequentially. If we now add a new element $x_{n+1}$ to our set, the new mean $\\bar{x}_{n+1}$ is\n",
    "\n",
    "$$\n",
    "\\bar{x}_{n+1} = \\bar{x}_n + \\frac{1}{n+1} \\left( x_{n+1} - \\bar{x}_n \\right)\n",
    "$$\n",
    "\n",
    "*Proof:*\n",
    "\n",
    "$$\n",
    "\\begin{align}\n",
    "\\bar{x}_{n+1} &= \\frac{1}{n+1} \\sum_{i=1}^{n+1} x_i \\\\\n",
    "&= \\frac{1}{n+1} \\left( x_{n+1} + n \\cdot \\frac{1}{n} \\sum_{i=1}^{n} x_i \\right) \\\\\n",
    "&= \\frac{1}{n+1} \\left( x_{n+1} + n \\bar{x}_n \\right) \\\\\n",
    "&= \\frac{1}{n+1} \\left( x_{n+1} - \\bar{x}_n + (n+1) \\bar{x}_n \\right) \\\\\n",
    "&= \\bar{x}_n + \\frac{1}{n+1} \\left( x_{n+1} - \\bar{x}_n \\right)\n",
    "\\end{align}\n",
    "$$"
   ]
  },
  {
   "cell_type": "markdown",
   "metadata": {},
   "source": [
    "### Bayes' theorem\n",
    "\n",
    "Bayes' theorem is an immediate consequence of the product rule of probability and states that the posterior is the likelihood times the prior divided by the model evidence.\n",
    "\n",
    "$$\n",
    "p\\left( \\vartheta \\middle| x \\right) = \\frac{p\\left( x \\middle| \\vartheta \\right) p\\left( \\vartheta \\right)}{p\\left( x \\right)}\n",
    "= \\frac{p\\left( x \\middle| \\vartheta \\right) p\\left( \\vartheta \\right)}{\\int_\\Omega p\\left( x \\middle| \\vartheta' \\right) p\\left( \\vartheta' \\right) \\mathrm{d}\\vartheta'},\n",
    "$$\n",
    "\n",
    "where $\\Omega$ is the support of $p(\\vartheta)$."
   ]
  },
  {
   "cell_type": "markdown",
   "metadata": {},
   "source": [
    "### Exponential families of probability distributions\n",
    "\n",
    "A family of probability distributions is an *exponential family* if and only if it can be written in the following form\n",
    "\n",
    "$$\n",
    "p\\left( x \\middle| \\vartheta \\right) = f_x(\\vartheta) := h(x) \\exp\\left( \\eta(\\vartheta) \\cdot T(x) - B(\\vartheta) \\right),\n",
    "$$\n",
    "\n",
    "where $x$ is a vector-valued observation, $\\vartheta$ is a parameter vector, $h(x)$ is a normalization constant, $\\eta(\\vartheta)$ is the so-called 'natural' parameter vector, $T(x)$ is the sufficient statistic vector, and $B(\\vartheta)$ is a scalar function."
   ]
  },
  {
   "cell_type": "markdown",
   "metadata": {},
   "source": [
    "### Bayes' theorem applied to exponential families\n",
    "\n",
    "When the likelihood belongs to an exponential family, applying Bayes' theorem becomes extremely simple with an appropriate prior. We choose a prior with a natural interpretation, implying that we have made $\\nu \\in \\mathbb{R}$ observations with sufficient statistics $\\xi$:\n",
    "\n",
    "$$\n",
    "p\\left( \\vartheta \\middle| \\xi, \\nu \\right) = g_{\\xi, \\nu}(\\vartheta) := z\\left( \\xi, \\nu \\right) \\exp\\left( \\nu\\left( \\eta \\left( \\vartheta \\right) \\cdot \\xi - B(\\vartheta) \\right) \\right),\n",
    "$$\n",
    "\n",
    "where $z(\\xi, \\nu)$ is a normalization constant:\n",
    "\n",
    "$$\n",
    "z(\\xi, \\nu) := \\left( \\int_\\Omega \\exp\\left( \\nu\\left( \\eta \\left( \\vartheta \\right) \\cdot \\xi - B(\\vartheta) \\right) \\right) \\mathrm{d}\\vartheta \\right)^{-1}.\n",
    "$$\n",
    "\n",
    "The *hyperpriors* $\\xi$ and $\\nu$ parameterize the prior $g_{\\xi, \\nu}$ of $\\vartheta$. This prior is *conjugate* to the likelihood; that is, the posterior has the same form $g_{\\xi, \\nu}$. When passing from the prior to the posterior after a new observation $x$, all that needs to be updated are the hyperpriors $\\xi$ and $\\nu$:\n",
    "\n",
    "$$\n",
    "\\begin{align}\n",
    "\\nu &\\leftarrow \\nu+1 \\\\\n",
    "\\xi &\\leftarrow \\xi + \\frac{1}{\\nu+1} \\left( T(x) - \\xi \\right)\n",
    "\\end{align}\n",
    "$$\n",
    "\n",
    "*Proof:*\n",
    "\n",
    "$$\n",
    "\\begin{align}\n",
    "p\\left( \\vartheta \\middle| x, \\xi, \\nu \\right) &\\propto p\\left( x \\middle| \\vartheta \\right) p\\left( \\vartheta \\middle| \\xi, \\nu \\right) \\\\\\\\\n",
    "&= f_x(\\vartheta)g_{\\xi, \\nu}(\\vartheta) \\\\\\\\\n",
    "&= h(x) \\exp\\left( \\eta(\\vartheta) \\cdot T(x) - B(\\vartheta) \\right) z\\left( \\xi, \\nu \\right) \\exp\\left( \\nu\\left( \\eta \\left( \\vartheta \\right) \\cdot \\xi - B(\\vartheta) \\right) \\right) \\\\\\\\\n",
    "&\\propto \\exp\\left( \\eta(\\vartheta) \\cdot \\left( T(x) + \\nu \\xi \\right) - (\\nu+1) B(\\vartheta) \\right) \\\\\\\\\n",
    "&= \\exp\\left( (\\nu+1) \\left( \\eta(\\vartheta) \\cdot \\frac{1}{\\nu+1} \\left( T(x) + \\nu \\xi \\right) - B(\\vartheta) \\right)\\right) \\\\\\\\\n",
    "&= \\exp\\left( (\\nu+1) \\left( \\eta(\\vartheta) \\cdot \\left( \\xi + \\frac{1}{\\nu+1} \\left( T(x) - \\xi \\right) \\right) - B(\\vartheta) \\right)\\right) \\\\\\\\\\\\\n",
    "\\Longrightarrow p\\left( \\vartheta \\middle| x, \\xi, \\nu \\right) &= g_{\\xi', \\nu'}(\\vartheta) \\qquad \\text{with} \\qquad \\nu' = \\nu+1 \\qquad \\text{and} \\qquad \\xi' = \\xi + \\frac{1}{\\nu+1} \\left( T(x) - \\xi \\right)\n",
    "\\end{align}\n",
    "$$\n",
    "\n",
    "Since the prior can "
   ]
  },
  {
   "cell_type": "markdown",
   "metadata": {},
   "source": [
    "## Gaussian with unknown mean and known precision\n",
    "\n",
    "### Likelihood\n",
    "\n",
    "The likelihood is\n",
    "\n",
    "$$\n",
    "\\begin{aligned}\n",
    "p\\left( x \\middle| \\vartheta \\right) &= h\\left( x \\right) \\exp\\left( \\eta\\left( \\vartheta \\right) \\cdot T(x) - B(\\vartheta) \\right) \\\\\n",
    "&= \\sqrt{\\frac{\\tau}{2\\pi}} \\exp \\left( -\\frac{\\tau}{2}\\left( x -\\mu \\right)^2 \\right) \\\\\n",
    "&= \\mathcal{N} \\left( x ; \\mu, \\tau^{-1} \\right)\n",
    "\\end{aligned}\n",
    "$$\n",
    "\n",
    "with\n",
    "\n",
    "$$\n",
    "\\begin{aligned}\n",
    "h( x ) &: = \\sqrt{\\frac{\\tau}{2\\pi}} \\exp\\left(-\\frac{\\tau}{2} x^2\\right),\\\\\n",
    "\\vartheta &:= \\mu,\\\\\n",
    "\\eta (\\vartheta) &: = \\tau\\mu,\\\\\n",
    "T(x) &: = x,\\\\\n",
    "B(\\vartheta) &:= \\frac{\\tau}{2}\\mu^2.\n",
    "\\end{aligned}\n",
    "$$"
   ]
  },
  {
   "cell_type": "markdown",
   "metadata": {},
   "source": [
    "### Prior\n",
    "\n",
    "The prior is\n",
    "\n",
    "\n",
    "$$\n",
    "p\\left( \\vartheta \\middle| \\xi, \\nu \\right) = z\\left( \\xi, \\nu\n",
    "\\right) \\exp\\left( \\nu\\left( \\eta \\left( \\vartheta \\right) \\cdot \\xi -\n",
    "B(\\vartheta) \\right) \\right),\n",
    "$$\n",
    "\n",
    "with normalization factor\n",
    "\n",
    "$$\n",
    "z(\\xi, \\nu) := \\left( \\int_\\Omega \\exp\\left( \\nu\\left( \\eta \\left( \\vartheta \\right) \\cdot \\xi -\n",
    "B(\\vartheta) \\right) \\right) \\mathrm{d}\\vartheta \\right)^{-1}.\n",
    "$$\n",
    "\n",
    "With the definitions above, this means\n",
    "\n",
    "$$\n",
    "\\begin{aligned}\n",
    "z(\\xi, \\nu)^{-1} &= \\int_{-\\infty}^\\infty \\exp \\left( \\nu \\left( \\tau \\mu \\xi - \\frac{1}{2}\\tau \\mu^2 \\right) \\right) \\mathrm{d}\\mu \\\\\n",
    "&= \\int_{-\\infty}^\\infty \\exp \\left( -\\frac{\\nu\\tau}{2} \\left( \\mu^2 - 2 \\mu \\xi \\right) \\right) \\mathrm{d}\\mu \\\\\n",
    "&= \\int_{-\\infty}^\\infty \\exp \\left( -\\frac{\\nu\\tau}{2} \\left( \\left( \\mu - \\xi \\right)^2 - \\xi^2 \\right) \\right) \\mathrm{d}\\mu \\\\\n",
    "&= \\exp \\left( \\frac{\\nu\\tau}{2} \\xi^2 \\right) \\int_{-\\infty}^\\infty \\exp \\left( -\\frac{\\nu\\tau}{2} \\left( \\mu - \\xi \\right)^2 \\right) \\mathrm{d}\\mu \\\\\n",
    "&= \\sqrt{\\frac{2\\pi}{\\nu \\tau}} \\exp \\left( \\frac{\\nu\\tau}{2} \\xi^2 \\right)\n",
    "\\end{aligned}\n",
    "$$\n",
    "\n",
    "and\n",
    "\n",
    "$$\n",
    "\\begin{aligned}\n",
    "p\\left( \\vartheta \\middle| \\xi, \\nu \\right) &= z(\\xi, \\nu) \\exp \\left( \\frac{\\nu\\tau}{2} \\xi^2 \\right) \\exp \\left( -\\frac{\\nu\\tau}{2} \\left( \\mu - \\xi \\right)^2 \\right) \\\\\n",
    "&= \\sqrt{\\frac{\\nu \\tau}{2\\pi}} \\exp \\left( -\\frac{\\nu\\tau}{2} \\left( \\mu - \\xi \\right)^2 \\right) \\\\\n",
    "&= \\mathcal{N} \\left( \\mu ; \\xi, (\\nu\\tau)^{-1} \\right)\n",
    "\\end{aligned}\n",
    "$$"
   ]
  },
  {
   "cell_type": "markdown",
   "metadata": {},
   "source": [
    "### Prior predictive distribution\n",
    "\n",
    "Marginalizing the joint over the parameter $\\vartheta$ gives us the prior predictive distribution\n",
    "\n",
    "$$\n",
    "\\begin{aligned}\n",
    "p\\left( x | \\xi, \\nu \\right) &= \\int_\\Omega p(x | \\vartheta) p(\\vartheta | \\xi, \\nu) \\mathrm{d}\\vartheta \\\\\n",
    "&= \\int_{-\\infty}^\\infty \\mathcal{N} \\left( x ; \\mu, \\tau^{-1} \\right) \\mathcal{N} \\left( \\mu ; \\xi, (\\nu\\tau)^{-1} \\right) \\mathrm{d}\\mu \\\\\n",
    "&= \\mathcal{N} \\left( x ; \\xi, \\tau^{-1} + (\\nu\\tau)^{-1} \\right) \\\\\n",
    "&= \\mathcal{N} \\left( x ; \\xi, \\left( \\frac{\\nu\\tau}{\\nu+1} \\right)^{-1} \\right).\n",
    "\\end{aligned}\n",
    "$$\n",
    "\n",
    "The third equality is a consequence of the fact that compounding two Gaussians gives a Gaussian whose variance is the sum of those of the compounded Gaussians. A more tedious derivation gives the same result:\n",
    "\n",
    "$$\n",
    "\\begin{aligned}\n",
    "p\\left( x | \\xi, \\nu \\right) &= \\int_\\Omega p(x | \\vartheta) p(\\vartheta | \\xi, \\nu) \\mathrm{d}\\vartheta \\\\\n",
    "&= \\int_{-\\infty}^\\infty \\mathcal{N} \\left( x ; \\mu, \\tau^{-1} \\right) \\mathcal{N} \\left( \\mu ; \\xi, (\\nu\\tau)^{-1} \\right) \\mathrm{d}\\mu \\\\\n",
    "&= \\int_{-\\infty}^\\infty \\sqrt{\\frac{\\tau}{2\\pi}} \\exp \\left( -\\frac{\\tau}{2}\\left( x -\\mu \\right)^2 \\right) \\sqrt{\\frac{\\nu \\tau}{2\\pi}} \\exp \\left( -\\frac{\\nu\\tau}{2} \\left( \\mu - \\xi \\right)^2 \\right) \\mathrm{d}\\mu \\\\\n",
    "&= \\frac{\\sqrt{\\nu} \\tau}{2\\pi} \\int_{-\\infty}^\\infty \\exp \\left( -\\frac{\\tau}{2}\\left( x -\\mu \\right)^2 \\right)  \\exp \\left( -\\frac{\\nu\\tau}{2} \\left( \\mu - \\xi \\right)^2 \\right) \\mathrm{d}\\mu \\\\\n",
    "&= \\frac{\\sqrt{\\nu} \\tau}{2\\pi} \\int_{-\\infty}^\\infty \\exp \\left( -\\frac{\\tau}{2}\\left( (\\nu+1)\\mu^2 -2(x+\\nu\\xi)\\mu + x^2 +\\nu\\xi^2 \\right) \\right) \\mathrm{d}\\mu \\\\\n",
    "&= \\frac{\\sqrt{\\nu} \\tau}{2\\pi} \\exp \\left( -\\frac{\\tau}{2}\\left( x^2 +\\nu\\xi^2 \\right) \\right) \\int_{-\\infty}^\\infty \\exp \\left( -\\frac{(\\nu+1) \\tau}{2}\\left( \\left( \\mu - \\frac{x+\\nu\\xi}{\\nu+1} \\right)^2 - \\left( \\frac{x+\\nu\\xi}{\\nu+1} \\right)^2 \\right) \\right) \\mathrm{d}\\mu \\\\\n",
    "&= \\frac{\\sqrt{\\nu} \\tau}{2\\pi} \\exp \\left( -\\frac{\\tau}{2}\\left( x^2 +\\nu\\xi^2 - \\frac{(x+\\nu\\xi)^2}{\\nu+1} \\right) \\right) \\int_{-\\infty}^\\infty \\exp \\left( -\\frac{(\\nu+1) \\tau}{2}\\left( \\left( \\mu - \\frac{x+\\nu\\xi}{\\nu+1} \\right)^2 \\right) \\right) \\mathrm{d}\\mu \\\\\n",
    "&= \\frac{\\sqrt{\\nu} \\tau}{2\\pi} \\exp \\left( -\\frac{\\tau}{2}\\left( x^2 +\\nu\\xi^2 - \\frac{(x+\\nu\\xi)^2}{\\nu+1} \\right) \\right) \\sqrt{\\frac{2\\pi}{(\\nu+1)\\tau}} \\\\\n",
    "&= \\sqrt{\\frac{\\nu\\tau}{2\\pi(\\nu+1)}} \\exp \\left( -\\frac{\\tau}{2}\\left( x^2 +\\nu\\xi^2 - \\frac{(x+\\nu\\xi)^2}{\\nu+1} \\right) \\right) \\\\\n",
    "&= \\sqrt{\\frac{\\nu\\tau}{2\\pi(\\nu+1)}} \\exp \\left( -\\frac{\\tau}{2}\\left( x^2 - \\frac{x^2}{\\nu+1} - \\frac{2\\nu\\xi x}{\\nu+1}- \\frac{\\nu^2\\xi^2}{\\nu+1} +\\nu\\xi^2 \\right) \\right) \\\\\n",
    "&= \\sqrt{\\frac{\\nu\\tau}{2\\pi(\\nu+1)}} \\exp \\left( -\\frac{\\tau}{2}\\left( x^2 \\left( 1  - \\frac{1}{\\nu+1} \\right) - 2\\frac{\\nu}{\\nu+1}\\xi x - \\frac{\\nu}{\\nu+1} \\left( +\\nu\\xi^2 + (\\nu+1)\\xi^2 \\right) \\right) \\right) \\\\\n",
    "&= \\sqrt{\\frac{\\nu\\tau}{2\\pi(\\nu+1)}} \\exp \\left( -\\frac{\\nu\\tau}{2(\\nu+1)}(x - \\xi)^2 \\right) \\\\\n",
    "&= \\mathcal{N} \\left( x ; \\xi, \\left( \\frac{\\nu\\tau}{\\nu+1} \\right)^{-1} \\right).\n",
    "\\end{aligned}\n",
    "$$"
   ]
  },
  {
   "cell_type": "markdown",
   "metadata": {},
   "source": [
    "## Gaussian with mean and precision unknown\n",
    "\n",
    "### Likelihood\n",
    "\n",
    "Whether precision is known or unknown does not affect the likelihood. It still is\n",
    "\n",
    "$$\n",
    "\\begin{aligned}\n",
    "p\\left( x \\middle| \\vartheta \\right) &= h\\left( x \\right) \\exp\\left( \\eta\\left( \\vartheta \\right) \\cdot T(x) - B(\\vartheta) \\right) \\\\\n",
    "&= \\sqrt{\\frac{\\tau}{2\\pi}} \\exp \\left( -\\frac{\\tau}{2}\\left( x -\\mu \\right)^2 \\right) \\\\\n",
    "&= \\mathcal{N} \\left( x ; \\mu, \\tau^{-1} \\right),\n",
    "\\end{aligned}\n",
    "$$\n",
    "\n",
    "but this time with\n",
    "\n",
    "$$\n",
    "\\begin{aligned}\n",
    "h( x ) &: = \\frac{1}{\\sqrt{2\\pi}},\\\\\n",
    "\\vartheta &:= \\left( \\mu, \\tau \\right)^\\intercal \\\\\n",
    "\\eta (\\vartheta) &: = \\left( \\tau\\mu, -\\tau/2 \\right)^\\intercal \\\\\n",
    "T(x) &: = \\left( x, x^2 \\right)^\\intercal \\\\\n",
    "B(\\vartheta) &:= \\frac{1}{2} \\left( \\tau \\mu^2 - \\ln \\tau \\right).\n",
    "\\end{aligned}\n",
    "$$"
   ]
  },
  {
   "cell_type": "markdown",
   "metadata": {},
   "source": [
    "### Prior\n",
    "\n",
    "With\n",
    "\n",
    "$$\n",
    "\\begin{aligned}\n",
    "z(\\xi, \\nu)^{-1} &= \\int_0^\\infty \\int_{-\\infty}^\\infty \\exp \\left( \\nu \\left( \\tau \\mu \\xi_1 - \\frac{1}{2}\\tau \\xi_2 - \\frac{1}{2}\\tau \\mu^2  + \\frac{1}{2} \\ln \\tau \\right) \\right) \\mathrm{d}\\mu \\mathrm{d}\\tau \\\\\n",
    "&= \\int_0^\\infty \\tau^\\frac{\\nu}{2} \\int_{-\\infty}^\\infty \\exp \\left( \\frac{\\nu\\tau}{2} \\left( 2\\mu\\xi_1 - \\xi_2 - \\mu^2 \\right) \\right) \\mathrm{d}\\mu \\mathrm{d}\\tau \\\\\n",
    "&= \\int_0^\\infty \\tau^\\frac{\\nu}{2} \\exp \\left( -\\frac{\\nu\\tau}{2} \\xi_2 \\right) \\int_{-\\infty}^\\infty \\exp \\left( -\\frac{\\nu\\tau}{2} \\left( \\mu^2 - 2\\mu\\xi_1 \\right) \\right) \\mathrm{d}\\mu \\mathrm{d}\\tau \\\\\n",
    "&= \\int_0^\\infty \\tau^\\frac{\\nu}{2} \\exp \\left( -\\frac{\\nu\\tau}{2} \\left( \\xi_2 - \\xi_1^2 \\right) \\right) \\int_{-\\infty}^\\infty \\exp \\left( -\\frac{\\nu\\tau}{2} \\left( \\mu - \\xi_1 \\right)^2 \\right) \\mathrm{d}\\mu \\mathrm{d}\\tau \\\\\n",
    "&= \\int_0^\\infty \\tau^\\frac{\\nu}{2} \\exp \\left( -\\frac{\\nu\\tau}{2} \\left( \\xi_2 - \\xi_1^2 \\right) \\right) \\sqrt{\\frac{2\\pi}{\\nu\\tau}} \\mathrm{d}\\tau \\\\\n",
    "&= \\sqrt{\\frac{2\\pi}{\\nu}} \\int_0^\\infty \\tau^\\frac{\\nu-1}{2} \\exp \\left( -\\frac{\\nu}{2} \\left( \\xi_2 - \\xi_1^2 \\right) \\tau \\right) \\mathrm{d}\\tau \\\\\n",
    "&= \\sqrt{\\frac{2\\pi}{\\nu}} \\frac{\\Gamma \\left( \\frac{\\nu+1}{2} \\right)}{\\left( \\frac{\\nu}{2} \\left( \\xi_2 - \\xi_1^2 \\right) \\right)^\\frac{\\nu+1}{2}} \\\\\n",
    "\\end{aligned}\n",
    "$$\n",
    "\n",
    "we get\n",
    "\n",
    "$$\n",
    "\\begin{aligned}\n",
    "p\\left( \\vartheta \\middle| \\xi, \\nu \\right) &= z(\\xi, \\nu) \\tau^\\frac{\\nu}{2} \\exp \\left( -\\frac{\\nu}{2} \\left( \\xi_2 - \\xi_1^2 \\right) \\tau \\right) \\exp \\left( -\\frac{\\nu\\tau}{2} \\left( \\mu - \\xi_1 \\right)^2 \\right) \\\\\n",
    "&= \\frac{\\left( \\frac{\\nu}{2} \\left( \\xi_2 - \\xi_1^2 \\right) \\right)^\\frac{\\nu+1}{2} }{\\Gamma \\left( \\frac{\\nu+1}{2} \\right)} \\tau^\\frac{\\nu-1}{2} \\exp \\left( -\\frac{\\nu}{2} \\left( \\xi_2 - \\xi_1^2 \\right) \\tau \\right) \\sqrt{\\frac{\\nu\\tau}{2\\pi}} \\exp \\left( -\\frac{\\nu\\tau}{2} \\left( \\mu - \\xi_1 \\right)^2 \\right) \\\\\n",
    "&= \\mathcal{N} \\left( \\mu ; \\xi_1, (\\nu\\tau)^{-1} \\right) \\text{Gamma} \\left( \\tau; \\frac{\\nu+1}{2}, \\frac{\\nu}{2} \\left( \\xi_2 - \\xi_1^2 \\right) \\right). \\\\\n",
    "\\end{aligned}\n",
    "$$"
   ]
  },
  {
   "cell_type": "markdown",
   "metadata": {},
   "source": [
    "### Prior predictive distribution\n",
    "\n",
    "$$\n",
    "\\begin{aligned}\n",
    "p\\left( x | \\xi, \\nu \\right) &= \\int_\\Omega p(x | \\vartheta) p(\\vartheta | \\xi, \\nu) \\mathrm{d}\\vartheta \\\\\n",
    "&= \\int_0^\\infty \\int_{-\\infty}^\\infty \\mathcal{N} \\left( x ; \\mu, \\tau^{-1} \\right) \\mathcal{N} \\left( \\mu ; \\xi_1, (\\nu\\tau)^{-1} \\right) \\text{Gamma} \\left( \\tau; \\frac{\\nu+1}{2}, \\frac{\\nu}{2} \\left( \\xi_2 - \\xi_1^2 \\right) \\right) \\mathrm{d}\\mu \\mathrm{d}\\tau \\\\\n",
    "&= \\int_0^\\infty \\mathcal{N} \\left( x ; \\xi_1, \\left( \\frac{\\nu\\tau}{\\nu+1} \\right)^{-1} \\right) \\text{Gamma} \\left( \\tau; \\frac{\\nu+1}{2}, \\frac{\\nu}{2} \\left( \\xi_2 - \\xi_1^2 \\right) \\right) \\mathrm{d}\\tau \\\\\n",
    "&= \\int_0^\\infty \\sqrt{\\frac{\\nu\\tau}{2\\pi(\\nu+1)}} \\exp \\left( -\\frac{\\nu\\tau}{2(\\nu+1)}(x - \\xi_1)^2 \\right) \\frac{\\left( \\frac{\\nu}{2} \\left( \\xi_2 - \\xi_1^2 \\right) \\right)^\\frac{\\nu+1}{2} }{\\Gamma \\left( \\frac{\\nu+1}{2} \\right)} \\tau^\\frac{\\nu-1}{2} \\exp \\left( -\\frac{\\nu}{2} \\left( \\xi_2 - \\xi_1^2 \\right) \\tau \\right) \\mathrm{d}\\tau \\\\\n",
    "&= \\sqrt{\\frac{\\nu}{2\\pi(\\nu+1)}} \\frac{\\left( \\frac{\\nu}{2} \\left( \\xi_2 - \\xi_1^2 \\right) \\right)^\\frac{\\nu+1}{2} }{\\Gamma \\left( \\frac{\\nu+1}{2} \\right)} \\int_0^\\infty \\exp \\left( -\\frac{\\nu\\tau}{2(\\nu+1)}(x - \\xi_1)^2 \\right) \\tau^\\frac{\\nu}{2} \\exp \\left( -\\frac{\\nu}{2} \\left( \\xi_2 - \\xi_1^2 \\right) \\tau \\right) \\mathrm{d}\\tau \\\\\n",
    "&= \\sqrt{\\frac{\\nu}{2\\pi(\\nu+1)}} \\frac{\\left( \\frac{\\nu}{2} \\left( \\xi_2 - \\xi_1^2 \\right) \\right)^\\frac{\\nu+1}{2} }{\\Gamma \\left( \\frac{\\nu+1}{2} \\right)} \\int_0^\\infty \\tau^\\frac{\\nu}{2} \\exp \\left( -\\frac{\\nu}{2} \\left( \\xi_2 - \\xi_1^2 + \\frac{(x - \\xi_1)^2}{\\nu+1} \\right) \\tau \\right) \\mathrm{d}\\tau \\\\\n",
    "&= \\sqrt{\\frac{\\nu}{2\\pi(\\nu+1)}} \\frac{\\left( \\frac{\\nu}{2} \\left( \\xi_2 - \\xi_1^2 \\right) \\right)^\\frac{\\nu+1}{2} }{\\Gamma \\left( \\frac{\\nu+1}{2} \\right)} \\frac{\\Gamma \\left( \\frac{\\nu}{2} + 1\\right)}{\\left( \\frac{\\nu}{2} \\left( \\xi_2 - \\xi_1^2 + \\frac{(x - \\xi_1)^2}{\\nu+1} \\right) \\right)^{\\frac{\\nu}{2} + 1}} \\\\\n",
    "&= \\sqrt{\\frac{1}{\\pi(\\nu+1)}} \\frac{\\left( \\xi_2 - \\xi_1^2 \\right)^\\frac{\\nu+1}{2} }{\\Gamma \\left( \\frac{\\nu+1}{2} \\right)} \\frac{\\Gamma \\left( \\frac{\\nu}{2} + 1\\right)}{\\left( \\xi_2 - \\xi_1^2 + \\frac{(x - \\xi_1)^2}{\\nu+1} \\right)^{\\frac{\\nu}{2} + 1}} \\\\\n",
    "&= \\sqrt{\\frac{1}{\\pi(\\nu+1)\\left( \\xi_2 - \\xi_1^2 \\right)}} \\frac{\\Gamma \\left( \\frac{\\nu+2}{2} \\right)}{\\Gamma \\left( \\frac{\\nu+1}{2} \\right)} \\left( \\frac{\\xi_2 - \\xi_1^2}{\\xi_2 - \\xi_1^2 + \\frac{(x - \\xi_1)^2}{\\nu+1}} \\right)^{\\frac{\\nu+2}{2}} \\\\\n",
    "&= \\sqrt{\\frac{1}{\\pi(\\nu+1)\\left( \\xi_2 - \\xi_1^2 \\right)}} \\frac{\\Gamma \\left( \\frac{\\nu+2}{2} \\right)}{\\Gamma \\left( \\frac{\\nu+1}{2} \\right)} \\left( 1 + \\frac{(x - \\xi_1)^2}{(\\nu+1) \\left( \\xi_2 - \\xi_1^2 \\right)} \\right)^{-\\frac{\\nu+2}{2}} \\\\\n",
    "&= \\text{Student's-}t \\left( x; \\nu+1, \\xi_1, \\xi_2 - \\xi_1^2 \\right) \\\\\n",
    "\\end{aligned}\n",
    "$$"
   ]
  },
  {
   "cell_type": "markdown",
   "metadata": {},
   "source": [
    "This motivates the definition of the *normal-predictive* distribution $\\mathcal{NP}$:\n",
    "\n",
    "$$\n",
    "\\mathcal{NP} \\left( x; \\xi_1, \\xi_2, \\nu \\right) :=  \\sqrt{\\frac{1}{\\pi(\\nu+1)\\left( \\xi_2 - \\xi_1^2 \\right)}} \\frac{\\Gamma \\left( \\frac{\\nu+2}{2} \\right)}{\\Gamma \\left( \\frac{\\nu+1}{2} \\right)} \\left( 1 + \\frac{(x - \\xi_1)^2}{(\\nu+1) \\left( \\xi_2 - \\xi_1^2 \\right)} \\right)^{-\\frac{\\nu+2}{2}}\n",
    "$$"
   ]
  },
  {
   "cell_type": "markdown",
   "metadata": {},
   "source": [
    "## Code and examples"
   ]
  },
  {
   "cell_type": "code",
   "execution_count": 1,
   "metadata": {
    "collapsed": true
   },
   "outputs": [],
   "source": [
    "dnp <- function(x, xi1, xi2, nu) {\n",
    "    # Mean\n",
    "    mu <- xi1\n",
    "    # 'Standard deviation'\n",
    "    sigma <- sqrt(xi2 - xi1^2)\n",
    "    # Degrees of freedom\n",
    "    df <- nu + 1\n",
    "    # Argument\n",
    "    a <- (x - mu)/sigma\n",
    "    \n",
    "    # Density\n",
    "    d <- 1/sigma*dt(a, df)\n",
    "    return(d)\n",
    "}"
   ]
  },
  {
   "cell_type": "code",
   "execution_count": 2,
   "metadata": {},
   "outputs": [
    {
     "data": {
      "text/html": [
       "0.386699020961393"
      ],
      "text/latex": [
       "0.386699020961393"
      ],
      "text/markdown": [
       "0.386699020961393"
      ],
      "text/plain": [
       "[1] 0.386699"
      ]
     },
     "metadata": {},
     "output_type": "display_data"
    }
   ],
   "source": [
    "dnp(1, 1, 2, 7)"
   ]
  },
  {
   "cell_type": "code",
   "execution_count": 3,
   "metadata": {},
   "outputs": [
    {
     "data": {
      "text/html": [
       "0.206748335783172"
      ],
      "text/latex": [
       "0.206748335783172"
      ],
      "text/markdown": [
       "0.206748335783172"
      ],
      "text/plain": [
       "[1] 0.2067483"
      ]
     },
     "metadata": {},
     "output_type": "display_data"
    }
   ],
   "source": [
    "dt(1, 3)"
   ]
  },
  {
   "cell_type": "code",
   "execution_count": 4,
   "metadata": {
    "collapsed": true
   },
   "outputs": [],
   "source": [
    "library(ggplot2)"
   ]
  },
  {
   "cell_type": "code",
   "execution_count": 5,
   "metadata": {},
   "outputs": [
    {
     "data": {},
     "metadata": {},
     "output_type": "display_data"
    },
    {
     "data": {
      "image/png": "[encoded data removed]",
      "text/plain": [
       "plot without title"
      ]
     },
     "metadata": {},
     "output_type": "display_data"
    }
   ],
   "source": [
    "options(repr.plot.width = 4, repr.plot.height = 3)\n",
    "ggplot(data.frame(x = c(-4, 4)), aes(x = x)) +\n",
    "    stat_function(fun = dt, args = list(df = 1)) +\n",
    "    stat_function(fun = dnp, args = list(xi1 = 1, xi2 = 2, nu = 200), colour = \"red\")"
   ]
  },
  {
   "cell_type": "code",
   "execution_count": 48,
   "metadata": {
    "collapsed": true
   },
   "outputs": [],
   "source": [
    "# Define hyperprior update function\n",
    "ud <- function(xi, nu, x, T = identity) {\n",
    "    xi <- xi + 1/(1 + nu)*(T(x) - xi)\n",
    "    return(xi)\n",
    "}"
   ]
  },
  {
   "cell_type": "code",
   "execution_count": 32,
   "metadata": {
    "collapsed": true
   },
   "outputs": [],
   "source": [
    "# Define sufficient statistics of univariate\n",
    "# Gaussian with both parameters unknown\n",
    "Tnorm <- function(x) {\n",
    "    T <- c(x, x^2)\n",
    "    return(T)\n",
    "}"
   ]
  },
  {
   "cell_type": "code",
   "execution_count": 53,
   "metadata": {
    "collapsed": true
   },
   "outputs": [],
   "source": [
    "# Set parameters of sampling distribution\n",
    "mux <- 5\n",
    "sdx <- 1/4 # ie pix == 16\n",
    "\n",
    "# Set hyperpriors to define prior\n",
    "xi <- c(0, 1/8)\n",
    "nu <- 1\n",
    "\n",
    "# Sample n observations\n",
    "n <- 10001\n",
    "xs <- rnorm(n, mux, sdx)\n",
    "\n",
    "# Hyperprior update loop\n",
    "xis <- xi\n",
    "nus <- nu\n",
    "for (i in 1:n) {\n",
    "    xi <- ud(xi, nu, xs[i], Tnorm)\n",
    "    xis <- rbind(xis, xi)\n",
    "    nu <- nu + 1\n",
    "    nus <- append(nus, nu)\n",
    "}"
   ]
  },
  {
   "cell_type": "code",
   "execution_count": 54,
   "metadata": {},
   "outputs": [
    {
     "data": {},
     "metadata": {},
     "output_type": "display_data"
    },
    {
     "data": {
      "image/png": "[encoded data removed]",
      "text/plain": [
       "plot without title"
      ]
     },
     "metadata": {},
     "output_type": "display_data"
    }
   ],
   "source": [
    "# Set up plot\n",
    "options(repr.plot.width = 9, repr.plot.height = 3)\n",
    "p <- ggplot(data.frame(x = c(-4, 8)), aes(x = x))\n",
    "\n",
    "# Plot prior predictive\n",
    "p <- p + stat_function(fun = dnp, args = list(xi1 = xis[1,1], xi2 = xis[1,2], nu = nus[1]), n = 401, colour = \"black\")\n",
    "\n",
    "\n",
    "# Plot every mth posterior predictive\n",
    "m <- 200\n",
    "for (i in seq(2, n + 1, m)) {\n",
    "    p <- p + stat_function(fun = dnp, args = list(xi1 = xis[i,1], xi2 = xis[i,2], nu = nus[i]), n = 401, colour = \"grey\")\n",
    "}\n",
    "\n",
    "# Plot sampling distribution\n",
    "p <- p + stat_function(fun = dnorm, args = list(mean = mux, sd = sdx), n = 401, colour = \"red\")\n",
    "\n",
    "# Make the plot\n",
    "p"
   ]
  },
  {
   "cell_type": "code",
   "execution_count": 9,
   "metadata": {},
   "outputs": [],
   "source": [
    "gauss_dens <- function(x, mu, la) {\n",
    "    T <- c(x, x^2)\n",
    "    h <- 1/sqrt(2*pi)\n",
    "    eta <- c(la*mu, -la/2)\n",
    "    B <- (la*mu^2 - log(la))/2\n",
    "    p <- drop(h*exp(eta %*% T - B))\n",
    "\n",
    "    return(p)\n",
    "}"
   ]
  },
  {
   "cell_type": "code",
   "execution_count": 10,
   "metadata": {},
   "outputs": [
    {
     "data": {
      "text/html": [
       "0.00443184841193801"
      ],
      "text/latex": [
       "0.00443184841193801"
      ],
      "text/markdown": [
       "0.00443184841193801"
      ],
      "text/plain": [
       "[1] 0.004431848"
      ]
     },
     "metadata": {},
     "output_type": "display_data"
    }
   ],
   "source": [
    "gauss_dens(3,0,1)"
   ]
  },
  {
   "cell_type": "code",
   "execution_count": 11,
   "metadata": {},
   "outputs": [
    {
     "data": {
      "text/html": [
       "0.00443184841193801"
      ],
      "text/latex": [
       "0.00443184841193801"
      ],
      "text/markdown": [
       "0.00443184841193801"
      ],
      "text/plain": [
       "[1] 0.004431848"
      ]
     },
     "metadata": {},
     "output_type": "display_data"
    }
   ],
   "source": [
    "dnorm(3)"
   ]
  },
  {
   "cell_type": "code",
   "execution_count": null,
   "metadata": {
    "collapsed": true
   },
   "outputs": [],
   "source": []
  }
 ],
 "metadata": {
  "anaconda-cloud": {},
  "kernelspec": {
   "display_name": "R",
   "language": "R",
   "name": "ir"
  },
  "language_info": {
   "codemirror_mode": "r",
   "file_extension": ".r",
   "mimetype": "text/x-r-source",
   "name": "R",
   "pygments_lexer": "r",
   "version": "3.5.2"
  }
 },
 "nbformat": 4,
 "nbformat_minor": 1
}
